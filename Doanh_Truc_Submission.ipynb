{
  "nbformat": 4,
  "nbformat_minor": 0,
  "metadata": {
    "colab": {
      "name": "Doanh_Truc_Submission.ipynb",
      "provenance": []
    },
    "kernelspec": {
      "name": "python3",
      "display_name": "Python 3"
    },
    "language_info": {
      "name": "python"
    },
    "accelerator": "GPU",
    "widgets": {
      "application/vnd.jupyter.widget-state+json": {
        "659cde0f30e1445faf0b06ce5bbf7d71": {
          "model_module": "@jupyter-widgets/controls",
          "model_name": "HBoxModel",
          "model_module_version": "1.5.0",
          "state": {
            "_view_name": "HBoxView",
            "_dom_classes": [],
            "_model_name": "HBoxModel",
            "_view_module": "@jupyter-widgets/controls",
            "_model_module_version": "1.5.0",
            "_view_count": null,
            "_view_module_version": "1.5.0",
            "box_style": "",
            "layout": "IPY_MODEL_edf204f109f948f79a94a92f3fcc6fbe",
            "_model_module": "@jupyter-widgets/controls",
            "children": [
              "IPY_MODEL_535ceb1ce57547bdaedf1b35b8b111bc",
              "IPY_MODEL_7a940ccba4364d9c9387110e6915a7f6"
            ]
          }
        },
        "edf204f109f948f79a94a92f3fcc6fbe": {
          "model_module": "@jupyter-widgets/base",
          "model_name": "LayoutModel",
          "model_module_version": "1.2.0",
          "state": {
            "_view_name": "LayoutView",
            "grid_template_rows": null,
            "right": null,
            "justify_content": null,
            "_view_module": "@jupyter-widgets/base",
            "overflow": null,
            "_model_module_version": "1.2.0",
            "_view_count": null,
            "flex_flow": null,
            "width": null,
            "min_width": null,
            "border": null,
            "align_items": null,
            "bottom": null,
            "_model_module": "@jupyter-widgets/base",
            "top": null,
            "grid_column": null,
            "overflow_y": null,
            "overflow_x": null,
            "grid_auto_flow": null,
            "grid_area": null,
            "grid_template_columns": null,
            "flex": null,
            "_model_name": "LayoutModel",
            "justify_items": null,
            "grid_row": null,
            "max_height": null,
            "align_content": null,
            "visibility": null,
            "align_self": null,
            "height": null,
            "min_height": null,
            "padding": null,
            "grid_auto_rows": null,
            "grid_gap": null,
            "max_width": null,
            "order": null,
            "_view_module_version": "1.2.0",
            "grid_template_areas": null,
            "object_position": null,
            "object_fit": null,
            "grid_auto_columns": null,
            "margin": null,
            "display": null,
            "left": null
          }
        },
        "535ceb1ce57547bdaedf1b35b8b111bc": {
          "model_module": "@jupyter-widgets/controls",
          "model_name": "FloatProgressModel",
          "model_module_version": "1.5.0",
          "state": {
            "_view_name": "ProgressView",
            "style": "IPY_MODEL_3ab9329288b84702a796715e365b1ae8",
            "_dom_classes": [],
            "description": "100%",
            "_model_name": "FloatProgressModel",
            "bar_style": "success",
            "max": 987,
            "_view_module": "@jupyter-widgets/controls",
            "_model_module_version": "1.5.0",
            "value": 987,
            "_view_count": null,
            "_view_module_version": "1.5.0",
            "orientation": "horizontal",
            "min": 0,
            "description_tooltip": null,
            "_model_module": "@jupyter-widgets/controls",
            "layout": "IPY_MODEL_f4346a2ddc83408e8e03ab4f28d5b27a"
          }
        },
        "7a940ccba4364d9c9387110e6915a7f6": {
          "model_module": "@jupyter-widgets/controls",
          "model_name": "HTMLModel",
          "model_module_version": "1.5.0",
          "state": {
            "_view_name": "HTMLView",
            "style": "IPY_MODEL_76938de8f92a4d8496fb812b7b161f2f",
            "_dom_classes": [],
            "description": "",
            "_model_name": "HTMLModel",
            "placeholder": "​",
            "_view_module": "@jupyter-widgets/controls",
            "_model_module_version": "1.5.0",
            "value": " 987/987 [18:45&lt;00:00,  1.14s/it]",
            "_view_count": null,
            "_view_module_version": "1.5.0",
            "description_tooltip": null,
            "_model_module": "@jupyter-widgets/controls",
            "layout": "IPY_MODEL_69bed1b0ec204f28887b3b1a1770b345"
          }
        },
        "3ab9329288b84702a796715e365b1ae8": {
          "model_module": "@jupyter-widgets/controls",
          "model_name": "ProgressStyleModel",
          "model_module_version": "1.5.0",
          "state": {
            "_view_name": "StyleView",
            "_model_name": "ProgressStyleModel",
            "description_width": "initial",
            "_view_module": "@jupyter-widgets/base",
            "_model_module_version": "1.5.0",
            "_view_count": null,
            "_view_module_version": "1.2.0",
            "bar_color": null,
            "_model_module": "@jupyter-widgets/controls"
          }
        },
        "f4346a2ddc83408e8e03ab4f28d5b27a": {
          "model_module": "@jupyter-widgets/base",
          "model_name": "LayoutModel",
          "model_module_version": "1.2.0",
          "state": {
            "_view_name": "LayoutView",
            "grid_template_rows": null,
            "right": null,
            "justify_content": null,
            "_view_module": "@jupyter-widgets/base",
            "overflow": null,
            "_model_module_version": "1.2.0",
            "_view_count": null,
            "flex_flow": null,
            "width": null,
            "min_width": null,
            "border": null,
            "align_items": null,
            "bottom": null,
            "_model_module": "@jupyter-widgets/base",
            "top": null,
            "grid_column": null,
            "overflow_y": null,
            "overflow_x": null,
            "grid_auto_flow": null,
            "grid_area": null,
            "grid_template_columns": null,
            "flex": null,
            "_model_name": "LayoutModel",
            "justify_items": null,
            "grid_row": null,
            "max_height": null,
            "align_content": null,
            "visibility": null,
            "align_self": null,
            "height": null,
            "min_height": null,
            "padding": null,
            "grid_auto_rows": null,
            "grid_gap": null,
            "max_width": null,
            "order": null,
            "_view_module_version": "1.2.0",
            "grid_template_areas": null,
            "object_position": null,
            "object_fit": null,
            "grid_auto_columns": null,
            "margin": null,
            "display": null,
            "left": null
          }
        },
        "76938de8f92a4d8496fb812b7b161f2f": {
          "model_module": "@jupyter-widgets/controls",
          "model_name": "DescriptionStyleModel",
          "model_module_version": "1.5.0",
          "state": {
            "_view_name": "StyleView",
            "_model_name": "DescriptionStyleModel",
            "description_width": "",
            "_view_module": "@jupyter-widgets/base",
            "_model_module_version": "1.5.0",
            "_view_count": null,
            "_view_module_version": "1.2.0",
            "_model_module": "@jupyter-widgets/controls"
          }
        },
        "69bed1b0ec204f28887b3b1a1770b345": {
          "model_module": "@jupyter-widgets/base",
          "model_name": "LayoutModel",
          "model_module_version": "1.2.0",
          "state": {
            "_view_name": "LayoutView",
            "grid_template_rows": null,
            "right": null,
            "justify_content": null,
            "_view_module": "@jupyter-widgets/base",
            "overflow": null,
            "_model_module_version": "1.2.0",
            "_view_count": null,
            "flex_flow": null,
            "width": null,
            "min_width": null,
            "border": null,
            "align_items": null,
            "bottom": null,
            "_model_module": "@jupyter-widgets/base",
            "top": null,
            "grid_column": null,
            "overflow_y": null,
            "overflow_x": null,
            "grid_auto_flow": null,
            "grid_area": null,
            "grid_template_columns": null,
            "flex": null,
            "_model_name": "LayoutModel",
            "justify_items": null,
            "grid_row": null,
            "max_height": null,
            "align_content": null,
            "visibility": null,
            "align_self": null,
            "height": null,
            "min_height": null,
            "padding": null,
            "grid_auto_rows": null,
            "grid_gap": null,
            "max_width": null,
            "order": null,
            "_view_module_version": "1.2.0",
            "grid_template_areas": null,
            "object_position": null,
            "object_fit": null,
            "grid_auto_columns": null,
            "margin": null,
            "display": null,
            "left": null
          }
        }
      }
    }
  },
  "cells": [
    {
      "cell_type": "markdown",
      "metadata": {
        "id": "ibG-tY-iVobM"
      },
      "source": [
        "# Submission\n",
        "Lời giải được đề xuất bởi nhóm AIBeginner\n",
        "- Bùi Cao Doanh (19521366)\n",
        "- Trịnh Thị Thanh Trúc (19521059)\n",
        "\n"
      ]
    },
    {
      "cell_type": "markdown",
      "metadata": {
        "id": "ZCFGGQB9V2JJ"
      },
      "source": [
        "# Cài thư viện"
      ]
    },
    {
      "cell_type": "code",
      "metadata": {
        "id": "nuh-65FH7vU7"
      },
      "source": [
        "# clone repo của chúng tôi về\n",
        "!git clone https://github.com/caodoanh2001/AITempoRun\n",
        "%cd AITempoRun"
      ],
      "execution_count": null,
      "outputs": []
    },
    {
      "cell_type": "code",
      "metadata": {
        "id": "0KcfQhJt7nsI"
      },
      "source": [
        "# tải model\n",
        "!mkdir models\n",
        "%cd models\n",
        "!gdown --id 16prmMkZx9mTOygnRRKjM3Af_nUapcItc\n",
        "%cd .. "
      ],
      "execution_count": null,
      "outputs": []
    },
    {
      "cell_type": "code",
      "metadata": {
        "id": "rFolP-OaV3-z"
      },
      "source": [
        "!pip install detectron2 -f https://dl.fbaipublicfiles.com/detectron2/wheels/cu102/torch1.9/index.html\n",
        "!pip install dict_trie\n",
        "!python setup.py install\n",
        "!python setup.py build develop"
      ],
      "execution_count": null,
      "outputs": []
    },
    {
      "cell_type": "markdown",
      "metadata": {
        "id": "X3zRLEqfV0wm"
      },
      "source": [
        "# Traning\n",
        "Chúng tôi nhận thấy dữ liệu BTC bị gán nhãn sai rất nhiều. Do đó chúng tôi tiến hành thực hiện NMS để loại bỏ nhiễu đi, với ngưỡng là 0.1. Bên cạnh đó áp dụng 1 giải thuật nho nhỏ để xếp lại các tọa độ theo đúng chiều kim đồng hồ"
      ]
    },
    {
      "cell_type": "markdown",
      "metadata": {
        "id": "3OUxKbyoyk6c"
      },
      "source": [
        "## Bước chúng tôi tiền xử lý: NMS + xoay cho đúng chiều kim đồng hồ"
      ]
    },
    {
      "cell_type": "code",
      "metadata": {
        "id": "aouuPiJPVqJa"
      },
      "source": [
        "import glob\n",
        "import os\n",
        "import json\n",
        "from tqdm import tqdm_notebook\n",
        "from functools import reduce\n",
        "import operator\n",
        "import math\n",
        "import cv2\n",
        "import numpy as np\n",
        "import nms\n",
        "\n",
        "dir_imgs = '/content/drive/MyDrive/AITempoRun/train/images/'\n",
        "dir_labels = '/content/drive/MyDrive/AITempoRun/train/labels/'\n",
        "list_images = glob.glob('/content/drive/MyDrive/AITempoRun/train/images/*')\n",
        "list_labels = glob.glob('/content/drive/MyDrive/AITempoRun/train/labels/*')\n",
        "\n",
        "total_convert = []\n",
        "new_data = []\n",
        "\n",
        "for img_path in tqdm_notebook(list_images):\n",
        "    img = cv2.imread(img_path)\n",
        "    list_labels = []\n",
        "    file_name = os.path.splitext(img_path.split('/')[-1])[0]\n",
        "    label_file = file_name + '.txt'\n",
        "    img_name = file_name + '.jpg'\n",
        "    with open(os.path.join(dir_labels, label_file), 'r') as f:\n",
        "        labels = f.read()\n",
        "    labels = [label.split(',') for label in labels.split('\\n')]\n",
        "    img_points = []\n",
        "    for label in labels:\n",
        "        points = [list(map(int,label[:-1][i:i + 2])) for i in range(0, len(label[:-1]), 2)]\n",
        "        center = tuple(map(operator.truediv, reduce(lambda x, y: map(operator.add, x, y), points), [len(points)] * 2))\n",
        "        points = sorted(points, key=lambda point: (-135 - math.degrees(math.atan2(*tuple(map(operator.sub, point, center))[::-1]))) % 360)\n",
        "        points = [item for sublist in points for item in sublist] + [1.]\n",
        "        img_points.append(points)\n",
        "\n",
        "    nms_points = nms.nms(img_points, 0.1)\n",
        "    img_points = [img_points[i] for i in [i for i, x in enumerate(nms_points) if x]]"
      ],
      "execution_count": null,
      "outputs": []
    },
    {
      "cell_type": "markdown",
      "metadata": {
        "id": "Q2cnUQQq1Pyt"
      },
      "source": [
        "Chúng tôi lưu vô file label (txt) và convert sang COCO để train"
      ]
    },
    {
      "cell_type": "code",
      "metadata": {
        "id": "t35mQ_PhzwcS"
      },
      "source": [
        "labels = open('labels.txt', 'r').read().split('\\n')"
      ],
      "execution_count": 178,
      "outputs": []
    },
    {
      "cell_type": "code",
      "metadata": {
        "id": "WAnkJy3K09eJ"
      },
      "source": [
        "import cv2\n",
        "from tqdm import tqdm_notebook\n",
        "dict_coco = {'images': [], 'annotations': [], 'categories': [{'id': 1,\n",
        "'keypoints': ['mean',\n",
        "'xmin',\n",
        "'x2',\n",
        "'x3',\n",
        "'xmax',\n",
        "'ymin',\n",
        "'y2',\n",
        "'y3',\n",
        "'ymax',\n",
        "'cross'],\n",
        "'name': 'text',\n",
        "'supercategory': 'beverage'}]}\n",
        "\n",
        "img_dir = '/content/drive/MyDrive/AITempoRun/train/images'\n",
        "img_id = {}\n",
        "for i, img in enumerate(glob.glob(os.path.join(img_dir, '*'))):\n",
        "    img_id[img.split('/')[-1]] = i\n",
        "\n",
        "for i, label in tqdm_notebook(enumerate(labels)):\n",
        "    label = label.split(',')\n",
        "    filename = label[0]\n",
        "    img = cv2.imread(os.path.join(img_dir, filename))\n",
        "    width, height = img.shape[1], img.shape[0]\n",
        "    segmentation = list(map(int, label[1:]))\n",
        "    dict_coco['images'].append({\n",
        "        'file_name': filename,\n",
        "        'height': height,\n",
        "        'id': img_id[filename],\n",
        "        'width': 3196\n",
        "    })\n",
        "    dict_coco['annotations'].append(\n",
        "    {\n",
        "        'area': 0,\n",
        "        'bbox': [segmentation[0],segmentation[1],segmentation[4],segmentation[5]],\n",
        "        'bezier_pts': [segmentation[0],segmentation[1],\\\n",
        "                       int((segmentation[0]+segmentation[2])/2), int((segmentation[1]+segmentation[3])/2),\\\n",
        "                       segmentation[2], segmentation[3], \\\n",
        "                       int((segmentation[4]+segmentation[6])/2), int((segmentation[5]+segmentation[7])/2),\\\n",
        "                       segmentation[6], segmentation[7]],\n",
        "        'category_id': 1,\n",
        "        'id': i,\n",
        "        'image_id': img_id[filename],\n",
        "        'iscrowd': 0,\n",
        "        'segmentation': segmentation\n",
        "    })\n",
        "    \n",
        "with open('train.json', 'w') as f:\n",
        "    json.dump(dict_coco,f )"
      ],
      "execution_count": null,
      "outputs": []
    },
    {
      "cell_type": "markdown",
      "metadata": {
        "id": "ZHCoAlGa5yMy"
      },
      "source": [
        "Để train thì thực thi câu lệnh sau. Sử dụng pretrain từ ABCNet"
      ]
    },
    {
      "cell_type": "code",
      "metadata": {
        "id": "vHBtuRVI506p"
      },
      "source": [
        "!python tools/train_net.py --config-file cfgs/config.yaml MODEL.WEIGHTS weights/pretrain_attn_R_50.pth"
      ],
      "execution_count": null,
      "outputs": []
    },
    {
      "cell_type": "markdown",
      "metadata": {
        "id": "U5gqQOU5V4bg"
      },
      "source": [
        "# Testing"
      ]
    },
    {
      "cell_type": "markdown",
      "metadata": {
        "id": "AszJ3WykWl3s"
      },
      "source": [
        "## Import thư viện và các biến, function phụ trợ"
      ]
    },
    {
      "cell_type": "code",
      "metadata": {
        "id": "rglVGq-XrnYK"
      },
      "source": [
        "from detectron2.engine.defaults import DefaultPredictor\n",
        "from detectron2.data.detection_utils import read_image\n",
        "from adet.config import get_cfg\n",
        "from tqdm import tqdm_notebook\n",
        "import time\n",
        "import glob\n",
        "import os"
      ],
      "execution_count": 3,
      "outputs": []
    },
    {
      "cell_type": "code",
      "metadata": {
        "id": "HdeTvpS2kJX3"
      },
      "source": [
        "def prepare_cfg(cfg_file, model_path):\n",
        "    cfg = get_cfg()\n",
        "    cfg.merge_from_file(cfg_file)\n",
        "    cfg.merge_from_list(['MODEL.WEIGHTS', model_path])\n",
        "    cfg.MODEL.RETINANET.SCORE_THRESH_TEST = 0.5\n",
        "    cfg.MODEL.ROI_HEADS.SCORE_THRESH_TEST = 0.5\n",
        "    cfg.MODEL.FCOS.INFERENCE_TH_TEST = 0.5\n",
        "    cfg.MODEL.PANOPTIC_FPN.COMBINE.INSTANCES_CONFIDENCE_THRESH = 0.5\n",
        "    cfg.freeze()\n",
        "    return cfg"
      ],
      "execution_count": 4,
      "outputs": []
    },
    {
      "cell_type": "code",
      "metadata": {
        "id": "FkoB-056fR9S"
      },
      "source": [
        "cfg_file = './cfgs/config.yaml'\n",
        "model_path = './models/finalModel.pth'\n",
        "path_test = '/content/drive/MyDrive/AITempoRun/public_test' # đường dẫn thư mục ảnh test "
      ],
      "execution_count": 5,
      "outputs": []
    },
    {
      "cell_type": "markdown",
      "metadata": {
        "id": "95_Fy7edr3uC"
      },
      "source": [
        "## Thực thi ra file submission.txt"
      ]
    },
    {
      "cell_type": "code",
      "metadata": {
        "id": "hmf3gzzEnKx2",
        "colab": {
          "base_uri": "https://localhost:8080/",
          "height": 520,
          "referenced_widgets": [
            "659cde0f30e1445faf0b06ce5bbf7d71",
            "edf204f109f948f79a94a92f3fcc6fbe",
            "535ceb1ce57547bdaedf1b35b8b111bc",
            "7a940ccba4364d9c9387110e6915a7f6",
            "3ab9329288b84702a796715e365b1ae8",
            "f4346a2ddc83408e8e03ab4f28d5b27a",
            "76938de8f92a4d8496fb812b7b161f2f",
            "69bed1b0ec204f28887b3b1a1770b345"
          ]
        },
        "outputId": "28a6bb21-2622-4f65-83f5-5f22b7749a6b"
      },
      "source": [
        "cfg = prepare_cfg(cfg_file, model_path)\n",
        "predictor = DefaultPredictor(cfg)\n",
        "\n",
        "print('Read predictor successfully. We are ready for predictions')\n",
        "\n",
        "list_txts = []\n",
        "start_time = time.time()\n",
        "for img_path in tqdm_notebook(glob.glob(os.path.join(path_test,'*'))):\n",
        "    img = read_image(img_path, format=\"BGR\")\n",
        "    try:\n",
        "        predictions = predictor(img)\n",
        "        raw_points = predictions['instances'].beziers.cpu().detach().numpy()\n",
        "        for p in raw_points:\n",
        "            p = [list(map(int,p[i:i + 2])) for i in range(0, len(p), 2)]\n",
        "            points = [p[0]] + [p[3]] + [p[4]] + [p[7]]\n",
        "            export_str = img_path.split('/')[-1] + ','\n",
        "            for _, _p in enumerate(points):\n",
        "                export_str += ','.join(list(map(str,list(map(int,_p)))))\n",
        "                if not (_ == len(points) - 1):\n",
        "                    export_str += ','\n",
        "            list_txts.append(export_str)\n",
        "    except:\n",
        "        print('Error at', img_path)\n",
        "end_time = time.time()\n",
        "\n",
        "print('Done. We are writing our predictions to submission.txt')\n",
        "\n",
        "list_txts = sorted(list_txts)\n",
        "f_submission = open('submission.txt', 'w')\n",
        "for _, line in enumerate(list_txts):\n",
        "    f_submission.write(line + '\\n') if _ != len(list_txts) -1 else f_submission.write(line)\n",
        "f_submission.close()\n",
        "\n",
        "print('Done! Thanks for waiting, the predict time is {}'.format(end_time - start_time))"
      ],
      "execution_count": 7,
      "outputs": [
        {
          "output_type": "stream",
          "text": [
            "Config './cfgs/config.yaml' has no VERSION. Assuming it to be compatible with latest v2.\n",
            "The checkpoint state_dict contains keys that are not used by the model:\n",
            "  \u001b[35mpixel_mean\u001b[0m\n",
            "  \u001b[35mpixel_std\u001b[0m\n"
          ],
          "name": "stderr"
        },
        {
          "output_type": "stream",
          "text": [
            "Read predictor successfully. We are ready for predictions\n"
          ],
          "name": "stdout"
        },
        {
          "output_type": "stream",
          "text": [
            "/usr/local/lib/python3.7/dist-packages/ipykernel_launcher.py:8: TqdmDeprecationWarning: This function will be removed in tqdm==5.0.0\n",
            "Please use `tqdm.notebook.tqdm` instead of `tqdm.tqdm_notebook`\n",
            "  \n"
          ],
          "name": "stderr"
        },
        {
          "output_type": "display_data",
          "data": {
            "application/vnd.jupyter.widget-view+json": {
              "model_id": "659cde0f30e1445faf0b06ce5bbf7d71",
              "version_minor": 0,
              "version_major": 2
            },
            "text/plain": [
              "HBox(children=(FloatProgress(value=0.0, max=987.0), HTML(value='')))"
            ]
          },
          "metadata": {
            "tags": []
          }
        },
        {
          "output_type": "stream",
          "text": [
            "Error at /content/drive/MyDrive/AITempoRun/public_test/test_0121.jpg\n"
          ],
          "name": "stdout"
        },
        {
          "output_type": "stream",
          "text": [
            "/usr/local/lib/python3.7/dist-packages/PIL/Image.py:960: UserWarning: Palette images with Transparency expressed in bytes should be converted to RGBA images\n",
            "  \"Palette images with Transparency expressed in bytes should be \"\n"
          ],
          "name": "stderr"
        },
        {
          "output_type": "stream",
          "text": [
            "\n",
            "Done. We are writing our predictions to submission.txt\n"
          ],
          "name": "stdout"
        },
        {
          "output_type": "error",
          "ename": "NameError",
          "evalue": "ignored",
          "traceback": [
            "\u001b[0;31m---------------------------------------------------------------------------\u001b[0m",
            "\u001b[0;31mNameError\u001b[0m                                 Traceback (most recent call last)",
            "\u001b[0;32m<ipython-input-7-4ad81455d7bf>\u001b[0m in \u001b[0;36m<module>\u001b[0;34m()\u001b[0m\n\u001b[1;32m     30\u001b[0m \u001b[0;32mfor\u001b[0m \u001b[0m_\u001b[0m\u001b[0;34m,\u001b[0m \u001b[0mline\u001b[0m \u001b[0;32min\u001b[0m \u001b[0menumerate\u001b[0m\u001b[0;34m(\u001b[0m\u001b[0mlist_txts\u001b[0m\u001b[0;34m)\u001b[0m\u001b[0;34m:\u001b[0m\u001b[0;34m\u001b[0m\u001b[0;34m\u001b[0m\u001b[0m\n\u001b[1;32m     31\u001b[0m     \u001b[0mf_submission\u001b[0m\u001b[0;34m.\u001b[0m\u001b[0mwrite\u001b[0m\u001b[0;34m(\u001b[0m\u001b[0mline\u001b[0m \u001b[0;34m+\u001b[0m \u001b[0;34m'\\n'\u001b[0m\u001b[0;34m)\u001b[0m \u001b[0;32mif\u001b[0m \u001b[0m_\u001b[0m \u001b[0;34m!=\u001b[0m \u001b[0mlen\u001b[0m\u001b[0;34m(\u001b[0m\u001b[0mlist_txts\u001b[0m\u001b[0;34m)\u001b[0m \u001b[0;34m-\u001b[0m\u001b[0;36m1\u001b[0m \u001b[0;32melse\u001b[0m \u001b[0mf_submission\u001b[0m\u001b[0;34m.\u001b[0m\u001b[0mwrite\u001b[0m\u001b[0;34m(\u001b[0m\u001b[0mline\u001b[0m\u001b[0;34m)\u001b[0m\u001b[0;34m\u001b[0m\u001b[0;34m\u001b[0m\u001b[0m\n\u001b[0;32m---> 32\u001b[0;31m \u001b[0mf\u001b[0m\u001b[0;34m.\u001b[0m\u001b[0mclose\u001b[0m\u001b[0;34m(\u001b[0m\u001b[0;34m)\u001b[0m\u001b[0;34m\u001b[0m\u001b[0;34m\u001b[0m\u001b[0m\n\u001b[0m\u001b[1;32m     33\u001b[0m \u001b[0;34m\u001b[0m\u001b[0m\n\u001b[1;32m     34\u001b[0m \u001b[0mprint\u001b[0m\u001b[0;34m(\u001b[0m\u001b[0;34m'Done! Thanks for waiting, the predict time is {}'\u001b[0m\u001b[0;34m.\u001b[0m\u001b[0mformat\u001b[0m\u001b[0;34m(\u001b[0m\u001b[0mend_time\u001b[0m \u001b[0;34m-\u001b[0m \u001b[0mstart_time\u001b[0m\u001b[0;34m)\u001b[0m\u001b[0;34m)\u001b[0m\u001b[0;34m\u001b[0m\u001b[0;34m\u001b[0m\u001b[0m\n",
            "\u001b[0;31mNameError\u001b[0m: name 'f' is not defined"
          ]
        }
      ]
    }
  ]
}